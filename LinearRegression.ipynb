{
  "nbformat": 4,
  "nbformat_minor": 0,
  "metadata": {
    "colab": {
      "provenance": []
    },
    "kernelspec": {
      "name": "python3",
      "display_name": "Python 3"
    },
    "language_info": {
      "name": "python"
    }
  },
  "cells": [
    {
      "cell_type": "code",
      "source": [
        "import pandas as pd\n",
        "from pandas import Series, DataFrame\n",
        "import sklearn\n",
        "from sklearn.decomposition import PCA\n",
        "import numpy as np\n",
        "import pandas as pd\n",
        "import matplotlib\n",
        "from matplotlib import pyplot as plt\n",
        "from sklearn.linear_model import LinearRegression"
      ],
      "metadata": {
        "id": "WXsA4GOt7IJA"
      },
      "execution_count": 2,
      "outputs": []
    },
    {
      "cell_type": "code",
      "source": [
        "df=pd.read_csv('/content/sample_data/LinearRegression.csv', index_col='id')"
      ],
      "metadata": {
        "id": "MrvetevvBsFC"
      },
      "execution_count": 61,
      "outputs": []
    },
    {
      "cell_type": "code",
      "source": [
        "l = LinearRegression().fit(df[[\"X\"]], df[[\"Y\"]])\n",
        "print('Коэффициент тета_1:', round(*l.coef_[0], 3))\n",
        "print('Коэффициент тета_0:', round(*l.intercept_,3))\n",
        "print('R^2 статистика:', round(l.score(df[[\"X\"]], df[[\"Y\"]]), 3))"
      ],
      "metadata": {
        "colab": {
          "base_uri": "https://localhost:8080/"
        },
        "id": "LjRg3rRSvjzE",
        "outputId": "44fac196-4eb3-4b81-df59-0c9cde4a49fe"
      },
      "execution_count": 68,
      "outputs": [
        {
          "output_type": "stream",
          "name": "stdout",
          "text": [
            "Коэффициент тета_1: 2.254\n",
            "Коэффициент тета_0: 2.807\n",
            "R^2 статистика: 0.954\n"
          ]
        }
      ]
    }
  ]
}