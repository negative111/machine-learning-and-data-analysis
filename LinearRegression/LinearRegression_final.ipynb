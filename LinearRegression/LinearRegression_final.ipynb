{
  "nbformat": 4,
  "nbformat_minor": 0,
  "metadata": {
    "colab": {
      "provenance": [],
      "authorship_tag": "ABX9TyOvche3esEoJjPyVVvo4xY7"
    },
    "kernelspec": {
      "name": "python3",
      "display_name": "Python 3"
    },
    "language_info": {
      "name": "python"
    }
  },
  "cells": [
    {
      "cell_type": "code",
      "source": [
        "import pandas as pd\n",
        "from pandas import Series, DataFrame\n",
        "import sklearn as sk\n",
        "from sklearn.decomposition import PCA\n",
        "import numpy as np\n",
        "import pandas as pd\n",
        "import matplotlib.pyplot as plt\n",
        "from sklearn.linear_model import LinearRegression\n",
        "from sklearn.model_selection import train_test_split\n",
        "from sklearn.metrics import r2_score\n",
        "\n"
      ],
      "metadata": {
        "id": "WXsA4GOt7IJA"
      },
      "execution_count": 293,
      "outputs": []
    },
    {
      "cell_type": "code",
      "source": [
        "df1 = pd.read_csv('/content/sample_data/fish_train.csv')\n",
        "df2 = pd.read_csv('/content/sample_data/fish_reserved.csv')"
      ],
      "metadata": {
        "id": "MrvetevvBsFC"
      },
      "execution_count": 294,
      "outputs": []
    },
    {
      "cell_type": "code",
      "source": [
        "def dum(ddf):\n",
        "  dummies = pd.get_dummies(ddf['Species'], drop_first = True, dtype = float)\n",
        "  ddf = ddf.join(dummies)\n",
        "  ddf = ddf.drop(['Species'], axis = 1)\n",
        "  ddfww = ddf.drop(['Weight'], axis = 1, errors = 'ignore') ** 3\n",
        "  if 'Weight' in ddf.columns:\n",
        "        ddfww['Weight'] = ddf['Weight']\n",
        "  return ddfww\n",
        "\n"
      ],
      "metadata": {
        "id": "V8-Hmz-39Aor"
      },
      "execution_count": 295,
      "outputs": []
    },
    {
      "cell_type": "code",
      "source": [
        "df_train = dum(df1)\n",
        "df_test = dum(df2)"
      ],
      "metadata": {
        "id": "AhRs4MFuCm29"
      },
      "execution_count": 296,
      "outputs": []
    },
    {
      "cell_type": "code",
      "source": [
        "x_train = df_train.drop(['Weight'], axis = 1)\n",
        "y_train = df_train['Weight']\n",
        "x_test = df_test\n",
        "l = LinearRegression().fit(x_train, y_train)\n",
        "y_pred = l.predict(x_test)\n",
        "ans = [ans for ans in y_pred]\n",
        "ans\n",
        "# Ваш результат: 0.979124974784"
      ],
      "metadata": {
        "colab": {
          "base_uri": "https://localhost:8080/"
        },
        "id": "raO5LtURCgKw",
        "outputId": "9d04662a-fdb6-4919-fde4-659a970d40c2"
      },
      "execution_count": 297,
      "outputs": [
        {
          "output_type": "execute_result",
          "data": {
            "text/plain": [
              "[107.46305931786632,\n",
              " 134.85070015627468,\n",
              " 100.73111036108233,\n",
              " 116.89891082211368,\n",
              " 92.50594111475823,\n",
              " 175.39226420694962,\n",
              " 79.76030908309548,\n",
              " 506.0156200081886,\n",
              " 406.107358956342,\n",
              " 109.82571449789283,\n",
              " 1931.308650232361,\n",
              " 179.0324840333833,\n",
              " 638.2669455944803,\n",
              " 1095.1450062523293,\n",
              " 55.58387552125161,\n",
              " 613.3937553875738,\n",
              " 128.74222930672647,\n",
              " 796.5187286561745,\n",
              " 1503.5085687104558,\n",
              " 102.06923809960432,\n",
              " 605.8609838923709,\n",
              " 192.24153161515375,\n",
              " 94.03424233341137,\n",
              " 172.71376485230405,\n",
              " 274.3879836495778,\n",
              " 583.4983575476549,\n",
              " 360.3201052919913,\n",
              " 11.688924513041144,\n",
              " 22.106668770698725,\n",
              " 6.407660347046318,\n",
              " 1033.627328773563,\n",
              " 457.9104430778698,\n",
              " 548.0596893144443,\n",
              " 155.5597785138166,\n",
              " 10.943842236921512,\n",
              " 78.59994942985116,\n",
              " 137.47280108358518,\n",
              " 904.4302089626026,\n",
              " 736.4745050971721,\n",
              " 145.75233094145344]"
            ]
          },
          "metadata": {},
          "execution_count": 297
        }
      ]
    }
  ]
}