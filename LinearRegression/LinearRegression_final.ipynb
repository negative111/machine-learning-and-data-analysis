{
  "nbformat": 4,
  "nbformat_minor": 0,
  "metadata": {
    "colab": {
      "provenance": [],
      "authorship_tag": "ABX9TyMWTOY0dO+S778DCLrWELsb"
    },
    "kernelspec": {
      "name": "python3",
      "display_name": "Python 3"
    },
    "language_info": {
      "name": "python"
    }
  },
  "cells": [
    {
      "cell_type": "code",
      "source": [
        "import pandas as pd\n",
        "from pandas import Series, DataFrame\n",
        "import sklearn as sk\n",
        "from sklearn.decomposition import PCA\n",
        "import numpy as np\n",
        "import pandas as pd\n",
        "import matplotlib.pyplot as plt\n",
        "from sklearn.linear_model import LinearRegression\n",
        "from sklearn.model_selection import train_test_split\n",
        "from sklearn.metrics import r2_score\n",
        "\n"
      ],
      "metadata": {
        "id": "WXsA4GOt7IJA"
      },
      "execution_count": 300,
      "outputs": []
    },
    {
      "cell_type": "code",
      "source": [
        "df1 = pd.read_csv('/content/sample_data/fish_train.csv')\n",
        "df2 = pd.read_csv('/content/sample_data/fish_reserved.csv')"
      ],
      "metadata": {
        "id": "MrvetevvBsFC"
      },
      "execution_count": 301,
      "outputs": []
    },
    {
      "cell_type": "code",
      "source": [
        "def dum(ddf):\n",
        "  dummies = pd.get_dummies(ddf['Species'], drop_first = True, dtype = float)\n",
        "  ddf = ddf.join(dummies)\n",
        "  ddf = ddf.drop(['Species'], axis = 1)\n",
        "  ddfww = ddf.drop(['Weight'], axis = 1, errors = 'ignore') ** 2\n",
        "  if 'Weight' in ddf.columns:\n",
        "        ddfww['Weight'] = ddf['Weight']\n",
        "  return ddfww\n",
        "\n"
      ],
      "metadata": {
        "id": "V8-Hmz-39Aor"
      },
      "execution_count": 302,
      "outputs": []
    },
    {
      "cell_type": "code",
      "source": [
        "df_train = dum(df1)\n",
        "df_test = dum(df2)"
      ],
      "metadata": {
        "id": "AhRs4MFuCm29"
      },
      "execution_count": 303,
      "outputs": []
    },
    {
      "cell_type": "code",
      "source": [
        "x_train = df_train.drop(['Weight'], axis = 1)\n",
        "y_train = df_train['Weight']\n",
        "x_test = df_test\n",
        "l = LinearRegression().fit(x_train, y_train)\n",
        "y_pred = l.predict(x_test)\n",
        "ans = [ans for ans in y_pred]\n",
        "ans\n",
        "# Ваш результат: 0.984052919119"
      ],
      "metadata": {
        "colab": {
          "base_uri": "https://localhost:8080/"
        },
        "id": "raO5LtURCgKw",
        "outputId": "5b22e439-f294-44c1-a1ec-3ae55eb0d29d"
      },
      "execution_count": 304,
      "outputs": [
        {
          "output_type": "execute_result",
          "data": {
            "text/plain": [
              "[95.54714703871167,\n",
              " 128.46800505093967,\n",
              " 63.94296625237308,\n",
              " 97.46840943969391,\n",
              " 54.35372112425728,\n",
              " 194.2229761229467,\n",
              " 2.0622687077650426,\n",
              " 512.8156880547618,\n",
              " 420.9718970042222,\n",
              " 78.17047303702878,\n",
              " 1702.1038931855155,\n",
              " 202.4813534872713,\n",
              " 648.732525611242,\n",
              " 1053.7357541293263,\n",
              " -48.45554844990653,\n",
              " 649.2414718750432,\n",
              " 124.72310702041352,\n",
              " 794.3839441689566,\n",
              " 1397.1767570934717,\n",
              " 68.25122414222352,\n",
              " 612.7740685910277,\n",
              " 199.2718815849854,\n",
              " 48.890973140172605,\n",
              " 187.02194691004735,\n",
              " 290.92770693340447,\n",
              " 617.0075253289709,\n",
              " 381.22874669096075,\n",
              " 16.782873287947723,\n",
              " 58.50194301457964,\n",
              " -4.3736570971974515,\n",
              " 989.4756259279897,\n",
              " 467.252559145797,\n",
              " 556.864906932222,\n",
              " 158.97556900763817,\n",
              " 19.23690130305755,\n",
              " 36.31956594554953,\n",
              " 135.06112796281428,\n",
              " 900.7334874469326,\n",
              " 750.6943995182143,\n",
              " 146.9837911063081]"
            ]
          },
          "metadata": {},
          "execution_count": 304
        }
      ]
    },
    {
      "cell_type": "code",
      "source": [
        "from sklearn.linear_model import LinearRegression\n",
        "from sklearn.decomposition import PCA\n",
        "import pandas as pd\n",
        "\n",
        "df_train =pd.read_csv('/content/sample_data/fish_train.csv')\n",
        "df_test = pd.read_csv('/content/sample_data/fish_reserved.csv')\n",
        "#pca = PCA(n_components=1, svd_solver='full')\n",
        "#pca.fit(df_train[['Length1', 'Length2', 'Length3']])\n",
        "\n",
        "def clean(df):\n",
        "    #df['Lengths'] = df[['Length1', 'Length2', 'Length3']] @ pca.components_[0].T\n",
        "    #df.drop(['Length1', 'Length2', 'Length3'], axis=1, inplace=True)\n",
        "\n",
        "    #df[['Width', 'Height', 'Lengths']] = df[['Width', 'Height', 'Lengths']].apply(lambda x: x**3)\n",
        "\n",
        "    df[['Width', 'Height', 'Length1', 'Length2', 'Length3']] = df[['Width', 'Height', 'Length1', 'Length2', 'Length3']].apply(lambda x: x**2)\n",
        "\n",
        "    dummies = pd.get_dummies(df['Species'], drop_first=True)\n",
        "    df[list(dummies.columns)] = dummies\n",
        "    df.drop(['Species'], axis=1, inplace=True)\n",
        "\n",
        "clean(df_train)\n",
        "clean(df_test)\n",
        "\n",
        "x_train = df_train.drop(['Weight'], axis=1)\n",
        "y_train = df_train['Weight']\n",
        "x_test = df_test\n",
        "\n",
        "lr = LinearRegression()\n",
        "lr.fit(x_train, y_train)\n",
        "\n",
        "y_pred = lr.predict(x_test)\n",
        "print(list(y_pred))"
      ],
      "metadata": {
        "colab": {
          "base_uri": "https://localhost:8080/"
        },
        "id": "B2li3z9-NiUv",
        "outputId": "edaaaf3e-aa61-4446-b3d4-e346065ca4e3"
      },
      "execution_count": 305,
      "outputs": [
        {
          "output_type": "stream",
          "name": "stdout",
          "text": [
            "[95.54714703871167, 128.46800505093967, 63.94296625237308, 97.46840943969391, 54.35372112425728, 194.2229761229467, 2.0622687077650426, 512.8156880547618, 420.9718970042222, 78.17047303702878, 1702.1038931855155, 202.4813534872713, 648.732525611242, 1053.7357541293263, -48.45554844990653, 649.2414718750432, 124.72310702041352, 794.3839441689566, 1397.1767570934717, 68.25122414222352, 612.7740685910277, 199.2718815849854, 48.890973140172605, 187.02194691004735, 290.92770693340447, 617.0075253289709, 381.22874669096075, 16.782873287947723, 58.50194301457964, -4.3736570971974515, 989.4756259279897, 467.252559145797, 556.864906932222, 158.97556900763817, 19.23690130305755, 36.31956594554953, 135.06112796281428, 900.7334874469326, 750.6943995182143, 146.9837911063081]\n"
          ]
        }
      ]
    }
  ]
}