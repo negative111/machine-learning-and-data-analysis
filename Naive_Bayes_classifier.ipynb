{
  "nbformat": 4,
  "nbformat_minor": 0,
  "metadata": {
    "colab": {
      "provenance": [],
      "authorship_tag": "ABX9TyOWVmHFXM3YpmMT5BRCrl2w"
    },
    "kernelspec": {
      "name": "python3",
      "display_name": "Python 3"
    },
    "language_info": {
      "name": "python"
    }
  },
  "cells": [
    {
      "cell_type": "code",
      "execution_count": 1,
      "metadata": {
        "id": "t37dIWhCKgbG"
      },
      "outputs": [],
      "source": [
        "import pandas as pd\n",
        "from pandas import Series, DataFrame\n",
        "import matplotlib.pyplot as plt\n",
        "import sklearn\n",
        "from sklearn.decomposition import PCA\n",
        "from sklearn.model_selection import train_test_split\n",
        "from sklearn.neighbors import KNeighborsClassifier\n",
        "from sklearn.metrics import f1_score\n",
        "from sklearn.preprocessing import MinMaxScaler\n",
        "import seaborn as sns\n",
        "from math import log, exp"
      ]
    },
    {
      "cell_type": "code",
      "source": [
        "spam = 30\n",
        "not_spam = 10\n",
        "spam_words = 201\n",
        "not_spam_words = 38\n",
        "words = {\n",
        "    'Coupon': (7, 1),\n",
        "    'Online': (1, 1),\n",
        "    'Gift': (4, 1),\n",
        "    'Access': (12, 5),\n",
        "    'Money': (3, 6),\n",
        "    'Investment': (20, 17),\n",
        "    'Free': (40, 3),\n",
        "    'Cash': (67, 2),\n",
        "    'Offer': (20, 1),\n",
        "    'Membership': (27, 1)\n",
        "}\n",
        "text = 'Refund Gift Cash Access Remove Investment Membership'.split(' ')\n",
        "\n",
        "print('P(\"спам\") =', spam / (spam + not_spam))\n",
        "\n",
        "f_spam = log(spam / (spam + not_spam))\n",
        "f_not_spam = log(not_spam / (spam + not_spam))\n",
        "\n",
        "r = len(list(filter(lambda x: x not in words, text)))\n",
        "\n",
        "for word in text:\n",
        "    a, b = words.get(word, (0, 0))\n",
        "\n",
        "    f_spam += log((1 + a) / (spam_words + len(words) + r))\n",
        "    f_not_spam += log((1 + b) / (not_spam_words + len(words) + r))\n",
        "\n",
        "print('F(\"спам\") =', f_spam)\n",
        "print('F(\"не спам\") =', f_not_spam)\n",
        "print('P(\"спам\"|Письмо) =', exp(f_spam) / (exp(f_spam) + exp(f_not_spam)))"
      ],
      "metadata": {
        "colab": {
          "base_uri": "https://localhost:8080/"
        },
        "id": "wKTXMQ7boeHm",
        "outputId": "47a2bc3f-5f8c-4ea3-bf3b-90cb8441c8a8"
      },
      "execution_count": 2,
      "outputs": [
        {
          "output_type": "stream",
          "name": "stdout",
          "text": [
            "P(\"спам\") = 0.75\n",
            "F(\"спам\") = -23.04610530944739\n",
            "F(\"не спам\") = -21.60341752220469\n",
            "P(\"спам\"|Письмо) = 0.19112947434651226\n"
          ]
        }
      ]
    }
  ]
}